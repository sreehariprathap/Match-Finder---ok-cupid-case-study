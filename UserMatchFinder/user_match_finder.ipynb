{
 "cells": [
  {
   "cell_type": "markdown",
   "metadata": {},
   "source": [
    "# User Match Finder\n",
    "\n",
    "In this project, we are using a dataset from Kaggle and OkCupid. The aim is to find a profile that trains a model to predict user matches. We will utilize TensorFlow for building and training the model."
   ]
  },
  {
   "cell_type": "code",
   "execution_count": null,
   "metadata": {},
   "outputs": [
    {
     "name": "stdout",
     "output_type": "stream",
     "text": [
      "Index(['age', 'status', 'sex', 'orientation', 'body_type', 'diet', 'drinks',\n",
      "       'drugs', 'education', 'ethnicity', 'height', 'income', 'job',\n",
      "       'last_online', 'location', 'offspring', 'pets', 'religion', 'sign',\n",
      "       'smokes', 'speaks', 'essay0', 'essay1', 'essay2', 'essay3', 'essay4',\n",
      "       'essay5', 'essay6', 'essay7', 'essay8', 'essay9'],\n",
      "      dtype='object')\n"
     ]
    }
   ],
   "source": [
    "import pandas as pd\n",
    "from sklearn.model_selection import train_test_split\n",
    "from sklearn.preprocessing import OneHotEncoder, StandardScaler\n",
    "from sklearn.compose import ColumnTransformer\n",
    "from sklearn.pipeline import Pipeline\n",
    "from sklearn.ensemble import GradientBoostingRegressor\n",
    "\n",
    "# add utils to path\n",
    "import sys\n",
    "sys.path.append('./utils')\n",
    "\n",
    "# Load dataset\n",
    "data = pd.read_csv('../data/okcupid_profiles.csv')\n",
    "\n",
    "# Inspect dataset columns\n",
    "print(data.columns)\n"
   ]
  },
  {
   "cell_type": "markdown",
   "metadata": {},
   "source": [
    "### Data Preprocessing"
   ]
  },
  {
   "cell_type": "code",
   "execution_count": 13,
   "metadata": {},
   "outputs": [
    {
     "name": "stdout",
     "output_type": "stream",
     "text": [
      "Index(['age', 'body_type', 'diet', 'drinks', 'drugs', 'education', 'ethnicity',\n",
      "       'height', 'income', 'job', 'last_online', 'location', 'offspring',\n",
      "       'pets', 'religion', 'sign', 'smokes', 'speaks', 'essay0', 'essay1',\n",
      "       'essay2', 'essay3', 'essay4', 'essay5', 'essay6', 'essay7', 'essay8',\n",
      "       'essay9', 'status_available', 'status_married', 'status_seeing someone',\n",
      "       'status_single', 'status_unknown', 'sex_f', 'sex_m',\n",
      "       'orientation_bisexual', 'orientation_gay', 'orientation_straight'],\n",
      "      dtype='object')\n"
     ]
    }
   ],
   "source": [
    "from DataPreprocessing import preprocess_data\n",
    "\n",
    "clean_data = preprocess_data(data)\n",
    "\n",
    "print(clean_data.columns)"
   ]
  }
 ],
 "metadata": {
  "kernelspec": {
   "display_name": "tf",
   "language": "python",
   "name": "tf"
  },
  "language_info": {
   "codemirror_mode": {
    "name": "ipython",
    "version": 3
   },
   "file_extension": ".py",
   "mimetype": "text/x-python",
   "name": "python",
   "nbconvert_exporter": "python",
   "pygments_lexer": "ipython3",
   "version": "3.9.21"
  }
 },
 "nbformat": 4,
 "nbformat_minor": 2
}
